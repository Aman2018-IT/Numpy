{
 "cells": [
  {
   "cell_type": "markdown",
   "id": "c4078734",
   "metadata": {},
   "source": [
    "# Iteration In Numpy "
   ]
  },
  {
   "cell_type": "code",
   "execution_count": 4,
   "id": "f76d28ca",
   "metadata": {},
   "outputs": [
    {
     "name": "stdout",
     "output_type": "stream",
     "text": [
      "[2 5 3 8 5]\n",
      "2\n",
      "5\n",
      "3\n",
      "8\n",
      "5\n"
     ]
    }
   ],
   "source": [
    "import numpy as np\n",
    "var1=np.array([2,5,3,8,5])\n",
    "print(var1)\n",
    "for i in var1:\n",
    "    print(i)"
   ]
  },
  {
   "cell_type": "code",
   "execution_count": 7,
   "id": "78234967",
   "metadata": {},
   "outputs": [
    {
     "name": "stdout",
     "output_type": "stream",
     "text": [
      "[[3 2 8 9]\n",
      " [4 1 2 7]]\n",
      "[3 2 8 9]\n",
      "[4 1 2 7]\n",
      "3\n",
      "2\n",
      "8\n",
      "9\n",
      "4\n",
      "1\n",
      "2\n",
      "7\n"
     ]
    }
   ],
   "source": [
    "var2=np.array([[3,2,8,9],[4,1,2,7]])\n",
    "print(var2)\n",
    "for i in var2:\n",
    "    print(i)\n",
    "    \n",
    "for i in var2:\n",
    "    for j in i:\n",
    "        print(j)"
   ]
  },
  {
   "cell_type": "code",
   "execution_count": 10,
   "id": "7f4b311e",
   "metadata": {},
   "outputs": [
    {
     "name": "stdout",
     "output_type": "stream",
     "text": [
      "[[[3 2 8 9]\n",
      "  [4 1 2 7]]]\n",
      "[[3 2 8 9]\n",
      " [4 1 2 7]]\n",
      "3\n",
      "2\n",
      "8\n",
      "9\n",
      "4\n",
      "1\n",
      "2\n",
      "7\n"
     ]
    }
   ],
   "source": [
    "array3D=np.array([[[3,2,8,9],[4,1,2,7]]])\n",
    "print(array3D)\n",
    "for i in array3D:\n",
    "    print(i)\n",
    "    \n",
    "for i in array3D:\n",
    "    for j in i:\n",
    "        for k in j:\n",
    "            print(k)\n",
    "            \n",
    "    \n"
   ]
  },
  {
   "cell_type": "code",
   "execution_count": 12,
   "id": "db2bcd56",
   "metadata": {},
   "outputs": [
    {
     "name": "stdout",
     "output_type": "stream",
     "text": [
      "[[[3 6 7 2]\n",
      "  [3 9 0 5]]]\n",
      "3\n",
      "6\n",
      "7\n",
      "2\n",
      "3\n",
      "9\n",
      "0\n",
      "5\n"
     ]
    }
   ],
   "source": [
    "my_arr=np.array([[[3,6,7,2],[3,9,0,5]]])\n",
    "print(my_arr)\n",
    "\n",
    "for i in np.nditer(my_arr):#nditer function to iterate on array\n",
    "    print(i)"
   ]
  },
  {
   "cell_type": "code",
   "execution_count": 15,
   "id": "85b6d04f",
   "metadata": {},
   "outputs": [
    {
     "name": "stdout",
     "output_type": "stream",
     "text": [
      "[[[3 6 7 2]\n",
      "  [3 9 0 5]]]\n"
     ]
    },
    {
     "ename": "TypeError",
     "evalue": "Field elements must be 2- or 3-tuples, got ''s''",
     "output_type": "error",
     "traceback": [
      "\u001b[1;31m---------------------------------------------------------------------------\u001b[0m",
      "\u001b[1;31mTypeError\u001b[0m                                 Traceback (most recent call last)",
      "Cell \u001b[1;32mIn[15], line 4\u001b[0m\n\u001b[0;32m      1\u001b[0m my_arr\u001b[38;5;241m=\u001b[39mnp\u001b[38;5;241m.\u001b[39marray([[[\u001b[38;5;241m3\u001b[39m,\u001b[38;5;241m6\u001b[39m,\u001b[38;5;241m7\u001b[39m,\u001b[38;5;241m2\u001b[39m],[\u001b[38;5;241m3\u001b[39m,\u001b[38;5;241m9\u001b[39m,\u001b[38;5;241m0\u001b[39m,\u001b[38;5;241m5\u001b[39m]]])\n\u001b[0;32m      2\u001b[0m \u001b[38;5;28mprint\u001b[39m(my_arr)\n\u001b[1;32m----> 4\u001b[0m \u001b[38;5;28;01mfor\u001b[39;00m i \u001b[38;5;129;01min\u001b[39;00m np\u001b[38;5;241m.\u001b[39mnditer(my_arr,flags\u001b[38;5;241m=\u001b[39m[\u001b[38;5;124m'\u001b[39m\u001b[38;5;124mbuffered\u001b[39m\u001b[38;5;124m'\u001b[39m],op_dtypes\u001b[38;5;241m=\u001b[39m[\u001b[38;5;124m\"\u001b[39m\u001b[38;5;124ms\u001b[39m\u001b[38;5;124m\"\u001b[39m]):\u001b[38;5;66;03m#nditer function me ham 2nd parameter me ham apne dtype ko bhi change kar sakte ha, buffer hme eak extra space create kar ke deta hai jaha ham yeh iterated data store kar skate hai,op_dtype ke using ham ne datatype string rakha.\u001b[39;00m\n\u001b[0;32m      5\u001b[0m     \u001b[38;5;28mprint\u001b[39m(i)\n",
      "\u001b[1;31mTypeError\u001b[0m: Field elements must be 2- or 3-tuples, got ''s''"
     ]
    }
   ],
   "source": [
    "my_arr=np.array([[[3,6,7,2],[3,9,0,5]]])\n",
    "print(my_arr)\n",
    "\n",
    "for i in np.nditer(my_arr,flags=['buffered'],op_dtypes=[\"s\"]):#nditer function me ham 2nd parameter me ham apne dtype ko bhi change kar sakte ha, buffer hme eak extra space create kar ke deta hai jaha ham yeh iterated data store kar skate hai,op_dtype ke using ham ne datatype string rakha.\n",
    "    print(i)"
   ]
  },
  {
   "cell_type": "code",
   "execution_count": null,
   "id": "e68fd548",
   "metadata": {},
   "outputs": [],
   "source": []
  }
 ],
 "metadata": {
  "kernelspec": {
   "display_name": "Python 3 (ipykernel)",
   "language": "python",
   "name": "python3"
  },
  "language_info": {
   "codemirror_mode": {
    "name": "ipython",
    "version": 3
   },
   "file_extension": ".py",
   "mimetype": "text/x-python",
   "name": "python",
   "nbconvert_exporter": "python",
   "pygments_lexer": "ipython3",
   "version": "3.11.5"
  }
 },
 "nbformat": 4,
 "nbformat_minor": 5
}
