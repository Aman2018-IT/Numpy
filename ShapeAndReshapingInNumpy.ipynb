{
 "cells": [
  {
   "cell_type": "markdown",
   "id": "ed1e439e",
   "metadata": {},
   "source": [
    "\n",
    "# Shape Attribute"
   ]
  },
  {
   "cell_type": "code",
   "execution_count": 3,
   "id": "1f348640",
   "metadata": {},
   "outputs": [
    {
     "name": "stdout",
     "output_type": "stream",
     "text": [
      "[[ 1  3 12  4]\n",
      " [ 1  4 57  7]]\n",
      "\n",
      "(2, 4)\n"
     ]
    }
   ],
   "source": [
    "import numpy as np\n",
    "var=np.array([[1,3,12,4],[1,4,57,7]])\n",
    "print(var)\n",
    "print()\n",
    "print(var.shape)#shape attribute"
   ]
  },
  {
   "cell_type": "code",
   "execution_count": 17,
   "id": "264a958d",
   "metadata": {},
   "outputs": [
    {
     "name": "stdout",
     "output_type": "stream",
     "text": [
      "[[[[2 1 8 9]]]]\n",
      "4\n",
      "(1, 1, 1, 4)\n",
      "\n",
      "[[[5 2 3 2]\n",
      "  [6 2 1 3]]\n",
      "\n",
      " [[2 1 8 9]\n",
      "  [5 6 7 8]]]\n",
      "(2, 2, 4)\n",
      "\n",
      "[[[2 1 8 9]\n",
      "  [5 6 7 8]]]\n",
      "(1, 2, 4)\n"
     ]
    }
   ],
   "source": [
    "var1=np.array([2,1,8,9],ndmin=4)\n",
    "print(var1)\n",
    "print(var1.ndim)\n",
    "print(var1.shape)\n",
    "\n",
    "print()\n",
    "var2=np.array([[[5,2,3,2],[6,2,1,3]],[[2,1,8,9],[5,6,7,8]]])\n",
    "print(var2)\n",
    "print(var2.shape)\n",
    "\n",
    "print()\n",
    "var3=np.array([[[2,1,8,9],[5,6,7,8]]])\n",
    "print(var3)\n",
    "print(var3.shape)"
   ]
  },
  {
   "cell_type": "markdown",
   "id": "e1dec08b",
   "metadata": {},
   "source": [
    "\n",
    "\n",
    "# Reshape Function"
   ]
  },
  {
   "cell_type": "code",
   "execution_count": 26,
   "id": "51a41313",
   "metadata": {},
   "outputs": [
    {
     "name": "stdout",
     "output_type": "stream",
     "text": [
      "[[2 7]\n",
      " [8 4]\n",
      " [5 4]]\n",
      "2\n",
      "\n",
      "[[[ 2  7]\n",
      "  [ 8  4]]\n",
      "\n",
      " [[ 5  4]\n",
      "  [ 5  2]]\n",
      "\n",
      " [[33 12]\n",
      "  [34 44]]]\n",
      "3\n",
      "\n",
      "[[[[ 2  7  8  4]\n",
      "   [ 5  4  5  2]]\n",
      "\n",
      "  [[33 12 34 44]\n",
      "   [ 2  7  8  4]]]\n",
      "\n",
      "\n",
      " [[[ 5  4  5  2]\n",
      "   [33 12 34 44]]\n",
      "\n",
      "  [[ 2  7  8  4]\n",
      "   [ 5  4  5  2]]]\n",
      "\n",
      "\n",
      " [[[33 12 34 44]\n",
      "   [ 2  7  8  4]]\n",
      "\n",
      "  [[ 5  4  5  2]\n",
      "   [33 12 34 44]]]]\n",
      "4\n"
     ]
    }
   ],
   "source": [
    "var4=np.array([2,7,8,4,5,4])\n",
    "x=var4.reshape(3,2)#Total 6 element we have and it can be converted into 2*3\n",
    "print(x)\n",
    "print(x.ndim)\n",
    "\n",
    "\n",
    "print()\n",
    "\n",
    "var5=np.array([2,7,8,4,5,4,5,2,33,12,34,44])\n",
    "x1=var5.reshape(3,2,2)#number of rows , uske andar number of rows and eak row me no of element hone\n",
    "print(x1)\n",
    "print(x1.ndim)\n",
    "\n",
    "print()\n",
    "\n",
    "var6=np.array([2,7,8,4,5,4,5,2,33,12,34,44,2,7,8,4,5,4,5,2,33,12,34,44,2,7,8,4,5,4,5,2,33,12,34,44,2,7,8,4,5,4,5,2,33,12,34,44])\n",
    "x2=var6.reshape(3,2,2,4)# 3 rows , uske andar number of 2 rows and uske andar 2 rows and eak row me no of element hone 4 column\n",
    "print(x2)\n",
    "print(x2.ndim)"
   ]
  },
  {
   "cell_type": "code",
   "execution_count": 28,
   "id": "6f02efba",
   "metadata": {},
   "outputs": [
    {
     "name": "stdout",
     "output_type": "stream",
     "text": [
      "[[[ 2  7]\n",
      "  [ 8  4]]\n",
      "\n",
      " [[ 5  4]\n",
      "  [ 5  2]]\n",
      "\n",
      " [[33 12]\n",
      "  [34 44]]]\n",
      "3\n",
      "\n",
      "[ 2  7  8  4  5  4  5  2 33 12 34 44]\n",
      "1\n"
     ]
    }
   ],
   "source": [
    "var7=np.array([2,7,8,4,5,4,5,2,33,12,34,44])\n",
    "x3d=var7.reshape(3,2,2)#number of rows , uske andar number of rows and eak row me no of element hone\n",
    "print(x3d)\n",
    "print(x3d.ndim)\n",
    "\n",
    "print()\n",
    "\n",
    "x1d=x1.reshape(-1)\n",
    "print(x1d)\n",
    "print(x1d.ndim)"
   ]
  },
  {
   "cell_type": "code",
   "execution_count": 30,
   "id": "86748d5d",
   "metadata": {},
   "outputs": [
    {
     "name": "stdout",
     "output_type": "stream",
     "text": [
      "[[[ 2  7]\n",
      "  [ 8  4]]\n",
      "\n",
      " [[ 5  4]\n",
      "  [ 5  2]]\n",
      "\n",
      " [[33 12]\n",
      "  [34 44]]]\n",
      "3\n",
      "\n",
      "[[ 2  7  8  4  5  4]\n",
      " [ 5  2 33 12 34 44]]\n",
      "2\n"
     ]
    }
   ],
   "source": [
    "var8=np.array([2,7,8,4,5,4,5,2,33,12,34,44])\n",
    "x3dm=var8.reshape(3,2,2)#number of rows , uske andar number of rows and eak row me no of element hone\n",
    "print(x3dm)\n",
    "print(x3dm.ndim)\n",
    "\n",
    "print()\n",
    "\n",
    "x2dm=x3dm.reshape(2,6)\n",
    "print(x2dm)\n",
    "print(x2dm.ndim)\n"
   ]
  },
  {
   "cell_type": "code",
   "execution_count": null,
   "id": "47803744",
   "metadata": {},
   "outputs": [],
   "source": []
  }
 ],
 "metadata": {
  "kernelspec": {
   "display_name": "Python 3 (ipykernel)",
   "language": "python",
   "name": "python3"
  },
  "language_info": {
   "codemirror_mode": {
    "name": "ipython",
    "version": 3
   },
   "file_extension": ".py",
   "mimetype": "text/x-python",
   "name": "python",
   "nbconvert_exporter": "python",
   "pygments_lexer": "ipython3",
   "version": "3.11.5"
  }
 },
 "nbformat": 4,
 "nbformat_minor": 5
}
