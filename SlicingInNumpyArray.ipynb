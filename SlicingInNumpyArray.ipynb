{
 "cells": [
  {
   "cell_type": "markdown",
   "id": "178bb281",
   "metadata": {},
   "source": [
    "# Slicing in Numpy Array"
   ]
  },
  {
   "cell_type": "code",
   "execution_count": 14,
   "id": "c8200e2e",
   "metadata": {},
   "outputs": [
    {
     "name": "stdout",
     "output_type": "stream",
     "text": [
      "[3 5 6]\n",
      "[  3   6  23 765]\n",
      "[ 5 77]\n",
      "[ 1  5 44 77]\n",
      "[  3   5   6  44  23  77 765  78]\n",
      "[ 1  3  5  6 44]\n",
      "[  1   3   5   6  44  23  77 765]\n",
      "[78]\n",
      "[ 78 765  77  23  44   6   5   3   1]\n",
      "[  1   3   5   6  44  23  77 765  78]\n",
      "[78 77 44  5  1]\n"
     ]
    }
   ],
   "source": [
    "import numpy as np\n",
    "v1=np.array([1,3,5,6,44,23,77,765,78])\n",
    "\n",
    "print(v1[1:4])#start,Stop\n",
    "print(v1[1:9:2])#start,stop,jump/step\n",
    "print(v1[2:9:4])\n",
    "print(v1[:7:2])\n",
    "print(v1[1:])\n",
    "print(v1[:5])\n",
    "\n",
    "\n",
    "print(v1[:-1])#end at -1 index\n",
    "print(v1[-1:])#start from -1\n",
    "print(v1[::-1])#Reverse\n",
    "print(v1[::1])\n",
    "print(v1[::-2])\n",
    "\n",
    "\n"
   ]
  },
  {
   "cell_type": "markdown",
   "id": "cfc8cde7",
   "metadata": {},
   "source": [
    "# Slicing in 2D"
   ]
  },
  {
   "cell_type": "code",
   "execution_count": 24,
   "id": "af7e554f",
   "metadata": {},
   "outputs": [
    {
     "name": "stdout",
     "output_type": "stream",
     "text": [
      "[3 5 2 7 8]\n",
      "[3 5 7]\n",
      "[ 5 11  8  5  7]\n",
      "[ 5 11  9]\n",
      "[ 5 11]\n",
      "[[ 3  5  2]\n",
      " [ 5 11  8]]\n"
     ]
    }
   ],
   "source": [
    "var2D=np.array([[3,3,5,2,7,8],[2,5,11,8,5,7],[6,2,9,8,1,5]])\n",
    "print(var2D[0,1:])\n",
    "print(var2D[0,0:6:2])\n",
    "print(var2D[1,1:])\n",
    "print(var2D[0:3,2])\n",
    "print(var2D[0:2,2])\n",
    "print(var2D[0:2,1:4])"
   ]
  },
  {
   "cell_type": "code",
   "execution_count": null,
   "id": "cc6dead5",
   "metadata": {},
   "outputs": [],
   "source": []
  }
 ],
 "metadata": {
  "kernelspec": {
   "display_name": "Python 3 (ipykernel)",
   "language": "python",
   "name": "python3"
  },
  "language_info": {
   "codemirror_mode": {
    "name": "ipython",
    "version": 3
   },
   "file_extension": ".py",
   "mimetype": "text/x-python",
   "name": "python",
   "nbconvert_exporter": "python",
   "pygments_lexer": "ipython3",
   "version": "3.11.5"
  }
 },
 "nbformat": 4,
 "nbformat_minor": 5
}
