{
 "cells": [
  {
   "cell_type": "markdown",
   "id": "6808ffba",
   "metadata": {},
   "source": [
    "# Special Numpy Array Inbuilt Function"
   ]
  },
  {
   "cell_type": "markdown",
   "id": "fe7a8193",
   "metadata": {},
   "source": [
    "1.Array filled with Zero with zero function"
   ]
  },
  {
   "cell_type": "code",
   "execution_count": 16,
   "id": "2c82f4ce",
   "metadata": {},
   "outputs": [
    {
     "name": "stdout",
     "output_type": "stream",
     "text": [
      "[0. 0. 0. 0.]\n",
      "\n",
      "[[0. 0. 0. 0.]\n",
      " [0. 0. 0. 0.]\n",
      " [0. 0. 0. 0.]]\n",
      "\n",
      "[[[0. 0. 0.]\n",
      "  [0. 0. 0.]]]\n",
      "\n",
      "[[[0. 0. 0.]\n",
      "  [0. 0. 0.]]\n",
      "\n",
      " [[0. 0. 0.]\n",
      "  [0. 0. 0.]]]\n",
      "[[0 0 0]\n",
      " [0 0 0]]\n",
      "[[(0, 0.) (0, 0.) (0, 0.)]\n",
      " [(0, 0.) (0, 0.) (0, 0.)]]\n",
      "[('x', '<i4'), ('y', '<f8')]\n"
     ]
    }
   ],
   "source": [
    "import numpy as np\n",
    "arr_zero1=np.zeros(4)#1-Dimension\n",
    "print(arr_zero1)\n",
    "\n",
    "print()\n",
    "\n",
    "arr_zero2=np.zeros((3,4))#2-Dimension\n",
    "print(arr_zero2)\n",
    "\n",
    "print()\n",
    "\n",
    "arr_zeroN=np.zeros((1,2,3))#3-Dimension array\n",
    "print(arr_zeroN)\n",
    "\n",
    "print()\n",
    "arr_zeroN=np.zeros((2,2,3))#3-Dimension array\n",
    "print(arr_zeroN)\n",
    "\n",
    "\n",
    "#With datatype\n",
    "arr_zeroDT=np.zeros((2,3),dtype=int)\n",
    "print(arr_zeroDT)\n",
    "\n",
    "arr_zeroDT1=np.zeros((2,3),dtype=[('x','int'),('y','double')])\n",
    "print(arr_zeroDT1)\n",
    "print(arr_zeroDT1.dtype)\n"
   ]
  },
  {
   "cell_type": "markdown",
   "id": "73bcf4b7",
   "metadata": {},
   "source": [
    "2. Array Filled with ones with ones function"
   ]
  },
  {
   "cell_type": "code",
   "execution_count": 17,
   "id": "3ac2b311",
   "metadata": {},
   "outputs": [
    {
     "name": "stdout",
     "output_type": "stream",
     "text": [
      "[1. 1. 1. 1. 1.]\n"
     ]
    }
   ],
   "source": [
    "arr_one1=np.ones(5)\n",
    "print(arr_one1)"
   ]
  },
  {
   "cell_type": "code",
   "execution_count": 19,
   "id": "c8f0b046",
   "metadata": {},
   "outputs": [
    {
     "name": "stdout",
     "output_type": "stream",
     "text": [
      "[[1. 1. 1.]\n",
      " [1. 1. 1.]]\n",
      "[[1 1 1]\n",
      " [1 1 1]]\n",
      "[[(1, 1.) (1, 1.)]\n",
      " [(1, 1.) (1, 1.)]]\n",
      "[('x', '<i4'), ('y', '<f8')]\n"
     ]
    }
   ],
   "source": [
    "array_2d = np.ones((2, 3))\n",
    "print(array_2d)\n",
    "\n",
    "array_2d_int = np.ones((2, 3), dtype=int)\n",
    "print(array_2d_int)\n",
    "\n",
    "array_mix_type = np.ones((2, 2), dtype=[('x', 'int'), ('y', 'float')])\n",
    "print(array_mix_type)\n",
    "print(array_mix_type.dtype)"
   ]
  },
  {
   "cell_type": "markdown",
   "id": "5f432a9b",
   "metadata": {},
   "source": [
    "3.Create Empty Array with Empty Function"
   ]
  },
  {
   "cell_type": "code",
   "execution_count": 25,
   "id": "77ca4a9b",
   "metadata": {},
   "outputs": [
    {
     "name": "stdout",
     "output_type": "stream",
     "text": [
      "[1. 1. 1. 1.]\n",
      "[[1. 1. 1.]\n",
      " [1. 1. 1.]]\n",
      "[[1. 1. 1.]\n",
      " [1. 1. 1.]]\n",
      "[[1547344304        514          0]\n",
      " [         0          1          0]]\n"
     ]
    },
    {
     "data": {
      "text/plain": [
       "array([[1., 1., 1.],\n",
       "       [1., 1., 1.]])"
      ]
     },
     "execution_count": 25,
     "metadata": {},
     "output_type": "execute_result"
    }
   ],
   "source": [
    "arr_empty1=np.empty(4)\n",
    "print(arr_empty1)#output me one dega kyu ki empty array me previous memory me jo data Save rehta hai wah aa jata hai.\n",
    "\n",
    "arr_empty2=np.empty([2,3])\n",
    "print(arr_empty2)\n",
    "\n",
    "arr_empty2=np.empty((2,3))#same like above\n",
    "print(arr_empty2)\n",
    "\n",
    "arr_empty2=np.empty([2,3],dtype=int)\n",
    "print(arr_empty2)\n",
    "\n",
    "\n",
    "#Refer Docs\n",
    "a = ([1,2,3], [4,5,6])                         # a is array-like\n",
    "np.empty_like(a)\n",
    "\n",
    "a = np.array([[1., 2., 3.],[4.,5.,6.]])\n",
    "np.empty_like(a)\n"
   ]
  },
  {
   "cell_type": "markdown",
   "id": "f02fe80d",
   "metadata": {},
   "source": [
    "4.Range function"
   ]
  },
  {
   "cell_type": "code",
   "execution_count": 26,
   "id": "6f2d5402",
   "metadata": {},
   "outputs": [
    {
     "name": "stdout",
     "output_type": "stream",
     "text": [
      "[0 1 2 3]\n"
     ]
    }
   ],
   "source": [
    "arr_rn=np.arange(4)\n",
    "print(arr_rn)"
   ]
  },
  {
   "cell_type": "markdown",
   "id": "19b4c2a4",
   "metadata": {},
   "source": [
    "5.Digional Element filled with ones eye Function"
   ]
  },
  {
   "cell_type": "code",
   "execution_count": 31,
   "id": "51170cb5",
   "metadata": {},
   "outputs": [
    {
     "name": "stdout",
     "output_type": "stream",
     "text": [
      "[[1. 0. 0.]\n",
      " [0. 1. 0.]\n",
      " [0. 0. 1.]]\n",
      "\n",
      "[[1. 0. 0. 0. 0.]\n",
      " [0. 1. 0. 0. 0.]\n",
      " [0. 0. 1. 0. 0.]]\n"
     ]
    }
   ],
   "source": [
    "arr_dig1=np.eye(3)#1-Dimension\n",
    "print(arr_dig)\n",
    "\n",
    "print()\n",
    "\n",
    "arr_dig2=np.eye(3,5)#2-Dimension\n",
    "print(arr_dig2)"
   ]
  },
  {
   "cell_type": "markdown",
   "id": "e70a3d20",
   "metadata": {},
   "source": [
    "6.Array with space linearly in specified interval with linspace function"
   ]
  },
  {
   "cell_type": "code",
   "execution_count": 34,
   "id": "4f5e9be1",
   "metadata": {},
   "outputs": [
    {
     "name": "stdout",
     "output_type": "stream",
     "text": [
      "[ 1.    3.25  5.5   7.75 10.  ]\n",
      "[ 0.  5. 10. 15. 20.]\n",
      "[1.         1.28571429 1.57142857 1.85714286 2.14285714 2.42857143\n",
      " 2.71428571 3.        ]\n"
     ]
    }
   ],
   "source": [
    "arr_ln=np.linspace(1,10,num=5)\n",
    "print(arr_ln)\n",
    "\n",
    "arr_ln2=np.linspace(0,20,num=5)\n",
    "print(arr_ln2)\n",
    "\n",
    "arr_ln3=np.linspace(1,3,num=8)\n",
    "print(arr_ln3)"
   ]
  },
  {
   "cell_type": "markdown",
   "id": "f5d4effa",
   "metadata": {},
   "source": [
    "7.Random Modules and its Function"
   ]
  },
  {
   "cell_type": "code",
   "execution_count": 44,
   "id": "4f284a46",
   "metadata": {},
   "outputs": [
    {
     "name": "stdout",
     "output_type": "stream",
     "text": [
      "[0.21753276 0.7875872  0.04282668 0.03043687]\n",
      "[[0.38616351 0.21850583 0.46434025 0.61582356 0.13852426]\n",
      " [0.20930654 0.81220674 0.66758301 0.71396513 0.94060563]]\n",
      "[ 1.3561264   0.4383215   0.44166219 -1.01931135 -1.13718989]\n",
      "[0.13487823 0.61089187 0.60167693 0.95899758 0.33289646]\n",
      "[6 4 7 6 3]\n"
     ]
    }
   ],
   "source": [
    "arr_rnd1=np.random.rand(4)#1-D 4 random value generate karega between 0-1,random module ke nadar rand function hai\n",
    "print(arr_rnd)\n",
    "\n",
    "arr_rnd2=np.random.rand(2,5)#2-D\n",
    "print(arr_rnd2)\n",
    "\n",
    "\n",
    "arr_randn=np.random.randn(5)#positive and negative number close to zero\n",
    "print(arr_randn)\n",
    "\n",
    "arr_randf=np.random.ranf(5)\n",
    "print(arr_randf)\n",
    "\n",
    "arr_randint=np.random.randint(3,8,5)#minium,maxium,total number\n",
    "print(arr_randint)\n"
   ]
  },
  {
   "cell_type": "code",
   "execution_count": null,
   "id": "5509fe10",
   "metadata": {},
   "outputs": [],
   "source": []
  },
  {
   "cell_type": "code",
   "execution_count": null,
   "id": "81d218cd",
   "metadata": {},
   "outputs": [],
   "source": []
  }
 ],
 "metadata": {
  "kernelspec": {
   "display_name": "Python 3 (ipykernel)",
   "language": "python",
   "name": "python3"
  },
  "language_info": {
   "codemirror_mode": {
    "name": "ipython",
    "version": 3
   },
   "file_extension": ".py",
   "mimetype": "text/x-python",
   "name": "python",
   "nbconvert_exporter": "python",
   "pygments_lexer": "ipython3",
   "version": "3.11.5"
  }
 },
 "nbformat": 4,
 "nbformat_minor": 5
}
