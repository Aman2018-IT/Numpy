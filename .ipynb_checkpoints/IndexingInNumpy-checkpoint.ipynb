{
 "cells": [
  {
   "cell_type": "markdown",
   "id": "2cfac3ae",
   "metadata": {},
   "source": [
    "# Indexing in Numpy Array"
   ]
  },
  {
   "cell_type": "code",
   "execution_count": 2,
   "id": "3e25f3e3",
   "metadata": {},
   "outputs": [
    {
     "name": "stdout",
     "output_type": "stream",
     "text": [
      "[ 1  3  4  5 11]\n",
      "5\n"
     ]
    }
   ],
   "source": [
    "import numpy as np\n",
    "x1=np.array([1,3,4,5,11])\n",
    "print(x1)\n",
    "print(x1[3])"
   ]
  },
  {
   "cell_type": "code",
   "execution_count": 6,
   "id": "9d583127",
   "metadata": {},
   "outputs": [
    {
     "name": "stdout",
     "output_type": "stream",
     "text": [
      "4\n"
     ]
    }
   ],
   "source": [
    "print(x2[-2,-2])#Negative Indexing"
   ]
  },
  {
   "cell_type": "code",
   "execution_count": 10,
   "id": "bd9aea8f",
   "metadata": {},
   "outputs": [
    {
     "name": "stdout",
     "output_type": "stream",
     "text": [
      "4 5\n"
     ]
    }
   ],
   "source": [
    "x3=np.array([[[33,1,4,5],[44,23,5,5]]])\n",
    "print(x3[0,0,2],x3[0,1,3])"
   ]
  },
  {
   "cell_type": "code",
   "execution_count": 17,
   "id": "03dbd527",
   "metadata": {},
   "outputs": [
    {
     "ename": "ValueError",
     "evalue": "setting an array element with a sequence. The requested array has an inhomogeneous shape after 1 dimensions. The detected shape was (5,) + inhomogeneous part.",
     "output_type": "error",
     "traceback": [
      "\u001b[1;31m---------------------------------------------------------------------------\u001b[0m",
      "\u001b[1;31mValueError\u001b[0m                                Traceback (most recent call last)",
      "Cell \u001b[1;32mIn[17], line 1\u001b[0m\n\u001b[1;32m----> 1\u001b[0m x4\u001b[38;5;241m=\u001b[39mnp\u001b[38;5;241m.\u001b[39marray([\u001b[38;5;241m1\u001b[39m,\u001b[38;5;241m3\u001b[39m,\u001b[38;5;241m4\u001b[39m,\u001b[38;5;241m44\u001b[39m,[[[\u001b[38;5;241m1\u001b[39m,\u001b[38;5;241m2\u001b[39m,\u001b[38;5;241m3\u001b[39m,\u001b[38;5;241m5\u001b[39m],[\u001b[38;5;241m33\u001b[39m,\u001b[38;5;241m1\u001b[39m,\u001b[38;5;241m4\u001b[39m,\u001b[38;5;241m5\u001b[39m],[\u001b[38;5;241m44\u001b[39m,\u001b[38;5;241m23\u001b[39m,\u001b[38;5;241m5\u001b[39m,\u001b[38;5;241m5\u001b[39m]]]])\n\u001b[0;32m      2\u001b[0m \u001b[38;5;28mprint\u001b[39m(x4\u001b[38;5;241m.\u001b[39mshape)\n",
      "\u001b[1;31mValueError\u001b[0m: setting an array element with a sequence. The requested array has an inhomogeneous shape after 1 dimensions. The detected shape was (5,) + inhomogeneous part."
     ]
    }
   ],
   "source": [
    "x4=np.array([[[[1,2,3,5],[33,1,4,5],[44,23,5,5]]]])\n",
    "print(x4.shape)\n"
   ]
  },
  {
   "cell_type": "code",
   "execution_count": 5,
   "id": "1dcd0276",
   "metadata": {},
   "outputs": [
    {
     "name": "stdout",
     "output_type": "stream",
     "text": [
      "[[[[-0.98815623 -0.90827995]\n",
      "   [ 0.45619573 -0.69450084]\n",
      "   [-0.39449044  0.86189727]]\n",
      "\n",
      "  [[-1.04001815  0.28130395]\n",
      "   [-0.87277589 -0.53252224]\n",
      "   [-0.54839094 -0.18517981]]\n",
      "\n",
      "  [[-0.93622164  0.2818328 ]\n",
      "   [-0.11233584 -0.48801543]\n",
      "   [ 1.24057989  0.91698709]]]\n",
      "\n",
      "\n",
      " [[[-0.43987213 -0.52551334]\n",
      "   [ 1.43413453 -0.00556105]\n",
      "   [-2.64436779 -0.09002925]]\n",
      "\n",
      "  [[-0.18969495 -0.61650918]\n",
      "   [ 0.44152456  0.69919141]\n",
      "   [-0.08977734 -1.92541351]]\n",
      "\n",
      "  [[-1.27062566  0.90259039]\n",
      "   [-0.07723171  0.95792897]\n",
      "   [-1.37861148 -0.33707502]]]\n",
      "\n",
      "\n",
      " [[[ 0.06680476 -0.09135356]\n",
      "   [ 1.71415566  0.63647901]\n",
      "   [-0.27237825 -0.94698927]]\n",
      "\n",
      "  [[ 0.91741975  0.1265189 ]\n",
      "   [ 0.27070737  0.46752272]\n",
      "   [ 2.2782881   0.40155866]]\n",
      "\n",
      "  [[ 1.53194943 -0.69599418]\n",
      "   [-0.18474411 -1.33170875]\n",
      "   [-0.10288494  1.08098701]]]\n",
      "\n",
      "\n",
      " [[[ 0.03808745 -0.08194613]\n",
      "   [ 0.44147761  0.87878143]\n",
      "   [ 0.0642695   0.39657708]]\n",
      "\n",
      "  [[ 0.53566566  0.32859723]\n",
      "   [ 1.28863955 -2.47406423]\n",
      "   [-0.91716073 -1.19073096]]\n",
      "\n",
      "  [[-0.47739424 -2.19025367]\n",
      "   [ 0.14955814 -1.40267065]\n",
      "   [ 0.49367221  0.73329023]]]]\n",
      "\n",
      "0.9169870863243411\n",
      "\n",
      "-0.9082799523236971\n",
      "\n",
      "[[-1.27062566  0.90259039]\n",
      " [-0.07723171  0.95792897]\n",
      " [-1.37861148 -0.33707502]]\n"
     ]
    }
   ],
   "source": [
    "x4=np.random.randn(4,3,3,2)\n",
    "print(x4)\n",
    "print()\n",
    "print(x4[0,2,2,1])\n",
    "print()\n",
    "print(x4[0,0,0,1])\n",
    "print()\n",
    "print(x4[1,2])"
   ]
  },
  {
   "cell_type": "code",
   "execution_count": 22,
   "id": "e6a962a2",
   "metadata": {
    "scrolled": true
   },
   "outputs": [
    {
     "name": "stdout",
     "output_type": "stream",
     "text": [
      "[[[-0.47260508 -0.09838548 -1.10668745 -1.0885812 ]\n",
      "  [ 0.49470072 -0.24703693 -0.6247354  -0.43665026]\n",
      "  [-0.34506112  0.08709966  1.36290779  0.60051571]]\n",
      "\n",
      " [[-0.21403229  0.03875905  0.01656757 -0.07185811]\n",
      "  [ 1.27449036 -0.16624328 -0.13622873 -1.02414121]\n",
      "  [-0.63828698 -1.10258098 -0.60280698  0.45124881]]]\n"
     ]
    }
   ],
   "source": [
    "x5=np.random.randn(2,3,4)\n",
    "print(x5)"
   ]
  },
  {
   "cell_type": "code",
   "execution_count": null,
   "id": "1bb504db",
   "metadata": {},
   "outputs": [],
   "source": []
  }
 ],
 "metadata": {
  "kernelspec": {
   "display_name": "Python 3 (ipykernel)",
   "language": "python",
   "name": "python3"
  },
  "language_info": {
   "codemirror_mode": {
    "name": "ipython",
    "version": 3
   },
   "file_extension": ".py",
   "mimetype": "text/x-python",
   "name": "python",
   "nbconvert_exporter": "python",
   "pygments_lexer": "ipython3",
   "version": "3.11.5"
  }
 },
 "nbformat": 4,
 "nbformat_minor": 5
}
