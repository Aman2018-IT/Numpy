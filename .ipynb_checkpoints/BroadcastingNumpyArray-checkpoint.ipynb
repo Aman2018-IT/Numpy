{
 "cells": [
  {
   "cell_type": "markdown",
   "id": "5a67f3cf",
   "metadata": {},
   "source": [
    "# Broadcasting Numpy Array"
   ]
  },
  {
   "cell_type": "code",
   "execution_count": 3,
   "id": "27050dfe",
   "metadata": {},
   "outputs": [
    {
     "ename": "ValueError",
     "evalue": "operands could not be broadcast together with shapes (4,) (3,) ",
     "output_type": "error",
     "traceback": [
      "\u001b[1;31m---------------------------------------------------------------------------\u001b[0m",
      "\u001b[1;31mValueError\u001b[0m                                Traceback (most recent call last)",
      "Cell \u001b[1;32mIn[3], line 4\u001b[0m\n\u001b[0;32m      2\u001b[0m var1\u001b[38;5;241m=\u001b[39mnp\u001b[38;5;241m.\u001b[39marray([\u001b[38;5;241m1\u001b[39m,\u001b[38;5;241m2\u001b[39m,\u001b[38;5;241m3\u001b[39m,\u001b[38;5;241m4\u001b[39m])\n\u001b[0;32m      3\u001b[0m var2\u001b[38;5;241m=\u001b[39mnp\u001b[38;5;241m.\u001b[39marray([\u001b[38;5;241m1\u001b[39m,\u001b[38;5;241m2\u001b[39m,\u001b[38;5;241m3\u001b[39m])\n\u001b[1;32m----> 4\u001b[0m \u001b[38;5;28mprint\u001b[39m(var1\u001b[38;5;241m+\u001b[39mvar2)\n",
      "\u001b[1;31mValueError\u001b[0m: operands could not be broadcast together with shapes (4,) (3,) "
     ]
    }
   ],
   "source": [
    "import numpy as np\n",
    "var1=np.array([1,2,3,4])\n",
    "var2=np.array([1,2,3])\n",
    "print(var1+var2)#ValueError: operands could not be broadcast together with shapes (4,) (3,)"
   ]
  },
  {
   "cell_type": "markdown",
   "id": "fdd3d09c",
   "metadata": {},
   "source": [
    "Now we will Learn to remove this Broadcasting error"
   ]
  },
  {
   "cell_type": "code",
   "execution_count": 9,
   "id": "45fc5c09",
   "metadata": {},
   "outputs": [
    {
     "name": "stdout",
     "output_type": "stream",
     "text": [
      "(3,)\n",
      "\n",
      "(3, 1)\n",
      "\n",
      "[[2 3 4]\n",
      " [3 4 5]\n",
      " [4 5 6]]\n"
     ]
    }
   ],
   "source": [
    "var3=np.array([1,2,3])#(1*3)\n",
    "print(var3.shape)\n",
    "\n",
    "print()\n",
    "\n",
    "var4=np.array([[1],[2],[3]])#(3*1)\n",
    "print(var4.shape)\n",
    "\n",
    "print()\n",
    "print(var3+var4)#no broadcasting error"
   ]
  },
  {
   "cell_type": "code",
   "execution_count": 11,
   "id": "5bb52b6f",
   "metadata": {},
   "outputs": [
    {
     "name": "stdout",
     "output_type": "stream",
     "text": [
      "(2, 1)\n",
      "(2, 3)\n",
      "[[5 6 3]\n",
      " [8 8 5]]\n"
     ]
    }
   ],
   "source": [
    "x=np.array([[2],[3]])#(2*1)\n",
    "print(x.shape)\n",
    "\n",
    "x2=np.array([[3,4,1],[5,5,2]])#(2*3)\n",
    "print(x2.shape)\n",
    "\n",
    "print(x+x2)"
   ]
  },
  {
   "cell_type": "code",
   "execution_count": null,
   "id": "8e735d53",
   "metadata": {},
   "outputs": [],
   "source": []
  }
 ],
 "metadata": {
  "kernelspec": {
   "display_name": "Python 3 (ipykernel)",
   "language": "python",
   "name": "python3"
  },
  "language_info": {
   "codemirror_mode": {
    "name": "ipython",
    "version": 3
   },
   "file_extension": ".py",
   "mimetype": "text/x-python",
   "name": "python",
   "nbconvert_exporter": "python",
   "pygments_lexer": "ipython3",
   "version": "3.11.5"
  }
 },
 "nbformat": 4,
 "nbformat_minor": 5
}
