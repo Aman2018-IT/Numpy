{
 "cells": [
  {
   "cell_type": "markdown",
   "id": "ef2a8c83",
   "metadata": {},
   "source": [
    "# Array\n"
   ]
  },
  {
   "cell_type": "code",
   "execution_count": 7,
   "id": "55c86782",
   "metadata": {},
   "outputs": [
    {
     "data": {
      "text/plain": [
       "array([1, 2, 3, 6])"
      ]
     },
     "execution_count": 7,
     "metadata": {},
     "output_type": "execute_result"
    }
   ],
   "source": [
    "import numpy as np\n",
    "x=[1,2,3,6]\n",
    "y=np.array(x)\n",
    "y\n"
   ]
  },
  {
   "cell_type": "code",
   "execution_count": 8,
   "id": "f55f027d",
   "metadata": {},
   "outputs": [
    {
     "name": "stdout",
     "output_type": "stream",
     "text": [
      "Enter :22\n",
      "Enter :34\n",
      "Enter :12\n",
      "Enter :13\n",
      "['22' '34' '12' '13']\n"
     ]
    }
   ],
   "source": [
    "l=[]\n",
    "for i in range(1,5):\n",
    "    int_1=input(\"Enter :\")#input function string leta hai \n",
    "    l.append(int_1)\n",
    "print(np.array(l))    "
   ]
  },
  {
   "cell_type": "code",
   "execution_count": 9,
   "id": "5f89e6f1",
   "metadata": {},
   "outputs": [
    {
     "name": "stdout",
     "output_type": "stream",
     "text": [
      "Enter :22\n",
      "Enter :34\n",
      "Enter :13\n",
      "Enter :545\n",
      "[ 22  34  13 545]\n"
     ]
    }
   ],
   "source": [
    "l=[]\n",
    "for i in range(1,5):\n",
    "    int_1=int(input(\"Enter :\"))#Explictly converting to int\n",
    "    l.append(int_1)\n",
    "print(np.array(l))    "
   ]
  },
  {
   "cell_type": "markdown",
   "id": "748ab1b1",
   "metadata": {},
   "source": [
    "#2-D Array"
   ]
  },
  {
   "cell_type": "code",
   "execution_count": 11,
   "id": "89a99acc",
   "metadata": {},
   "outputs": [
    {
     "name": "stdout",
     "output_type": "stream",
     "text": [
      "[[2 3 5]\n",
      " [2 4 6]]\n",
      "2\n"
     ]
    }
   ],
   "source": [
    "arr_2D=np.array([[2,3,5],[2,4,6]])\n",
    "print(arr_2D)\n",
    "print(arr_2D.ndim)"
   ]
  },
  {
   "cell_type": "markdown",
   "id": "6404ed7c",
   "metadata": {},
   "source": [
    "#3-D Array"
   ]
  },
  {
   "cell_type": "code",
   "execution_count": 12,
   "id": "25cfecfd",
   "metadata": {},
   "outputs": [
    {
     "name": "stdout",
     "output_type": "stream",
     "text": [
      "[[[ 2  4  5 21]\n",
      "  [ 3  4 77 22]]]\n",
      "3\n"
     ]
    }
   ],
   "source": [
    "arr_3D=np.array([[[2,4,5,21],[3,4,77,22]]])\n",
    "print(arr_3D)\n",
    "print(arr_3D.ndim)#ndim is attribute"
   ]
  },
  {
   "cell_type": "markdown",
   "id": "d2bae82f",
   "metadata": {},
   "source": [
    "#N-D Array"
   ]
  },
  {
   "cell_type": "code",
   "execution_count": 14,
   "id": "6820a153",
   "metadata": {},
   "outputs": [
    {
     "name": "stdout",
     "output_type": "stream",
     "text": [
      "[[[[[[[[[[1 3 5 5]]]]]]]]]]\n",
      "10\n"
     ]
    }
   ],
   "source": [
    "arr_ND=np.array([1,3,5,5],ndmin=10)#10-D Array\n",
    "print(arr_ND)\n",
    "print(arr_ND.ndim)"
   ]
  },
  {
   "cell_type": "code",
   "execution_count": null,
   "id": "e43756c6",
   "metadata": {},
   "outputs": [],
   "source": []
  }
 ],
 "metadata": {
  "kernelspec": {
   "display_name": "Python 3 (ipykernel)",
   "language": "python",
   "name": "python3"
  },
  "language_info": {
   "codemirror_mode": {
    "name": "ipython",
    "version": 3
   },
   "file_extension": ".py",
   "mimetype": "text/x-python",
   "name": "python",
   "nbconvert_exporter": "python",
   "pygments_lexer": "ipython3",
   "version": "3.11.5"
  }
 },
 "nbformat": 4,
 "nbformat_minor": 5
}
