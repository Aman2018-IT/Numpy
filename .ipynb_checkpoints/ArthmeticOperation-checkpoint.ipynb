{
 "cells": [
  {
   "cell_type": "markdown",
   "id": "49215807",
   "metadata": {},
   "source": [
    "# Arthmetic Operation"
   ]
  },
  {
   "cell_type": "code",
   "execution_count": 1,
   "id": "8f139414",
   "metadata": {},
   "outputs": [
    {
     "name": "stdout",
     "output_type": "stream",
     "text": [
      "[ 5  6 14 36  7]\n"
     ]
    }
   ],
   "source": [
    "import numpy as np\n",
    "var=np.array([2,3,11,33,4])\n",
    "varAdd=var+3\n",
    "print(varAdd)"
   ]
  },
  {
   "cell_type": "code",
   "execution_count": 4,
   "id": "189a74b5",
   "metadata": {},
   "outputs": [
    {
     "name": "stdout",
     "output_type": "stream",
     "text": [
      "[ 4  6 55 38 10]\n"
     ]
    }
   ],
   "source": [
    "var1=np.array([2,3,11,33,4])\n",
    "var2=np.array([2,3,44,5,6])\n",
    "varAdd1=var1+var2\n",
    "print(varAdd1)"
   ]
  },
  {
   "cell_type": "code",
   "execution_count": 6,
   "id": "2070e35e",
   "metadata": {},
   "outputs": [
    {
     "name": "stdout",
     "output_type": "stream",
     "text": [
      "[-1  0  8 30  1]\n",
      "[  0   0 -33  28  -2]\n"
     ]
    }
   ],
   "source": [
    "var=np.array([2,3,11,33,4])\n",
    "varAdd=var-3\n",
    "print(varAdd)\n",
    "\n",
    "var1=np.array([2,3,11,33,4])\n",
    "var2=np.array([2,3,44,5,6])\n",
    "varAdd1=var1-var2\n",
    "print(varAdd1)"
   ]
  },
  {
   "cell_type": "code",
   "execution_count": 7,
   "id": "2455bffa",
   "metadata": {},
   "outputs": [
    {
     "name": "stdout",
     "output_type": "stream",
     "text": [
      "[ 6  9 33 99 12]\n",
      "[  4   9 484 165  24]\n"
     ]
    }
   ],
   "source": [
    "var=np.array([2,3,11,33,4])\n",
    "varAdd=var*3\n",
    "print(varAdd)\n",
    "\n",
    "var1=np.array([2,3,11,33,4])\n",
    "var2=np.array([2,3,44,5,6])\n",
    "varAdd1=var1*var2\n",
    "print(varAdd1)"
   ]
  },
  {
   "cell_type": "code",
   "execution_count": 8,
   "id": "94b847ae",
   "metadata": {},
   "outputs": [
    {
     "name": "stdout",
     "output_type": "stream",
     "text": [
      "[ 0.66666667  1.          3.66666667 11.          1.33333333]\n",
      "[1.         1.         0.25       6.6        0.66666667]\n"
     ]
    }
   ],
   "source": [
    "var=np.array([2,3,11,33,4])\n",
    "varAdd=var/3\n",
    "print(varAdd)\n",
    "\n",
    "var1=np.array([2,3,11,33,4])\n",
    "var2=np.array([2,3,44,5,6])\n",
    "varAdd1=var1/var2\n",
    "print(varAdd1)"
   ]
  },
  {
   "cell_type": "code",
   "execution_count": 9,
   "id": "1ad3d79c",
   "metadata": {},
   "outputs": [
    {
     "name": "stdout",
     "output_type": "stream",
     "text": [
      "[ 4  6 55 38 10]\n"
     ]
    }
   ],
   "source": [
    "\n",
    "\n",
    "var1=np.array([2,3,11,33,4])\n",
    "var2=np.array([2,3,44,5,6])\n",
    "var1+=var2\n",
    "print(var1)"
   ]
  },
  {
   "cell_type": "code",
   "execution_count": 11,
   "id": "972040ae",
   "metadata": {},
   "outputs": [
    {
     "name": "stdout",
     "output_type": "stream",
     "text": [
      "[0 1 1 1 0]\n",
      "[ 0  0 11  3  4]\n"
     ]
    }
   ],
   "source": [
    "var=np.array([2,3,11,33,4])\n",
    "varAdd=var%2\n",
    "print(varAdd)\n",
    "\n",
    "var1=np.array([2,3,11,33,4])\n",
    "var2=np.array([2,3,44,5,6])\n",
    "varAdd1=var1%var2\n",
    "print(varAdd1)"
   ]
  },
  {
   "cell_type": "markdown",
   "id": "11bd4668",
   "metadata": {},
   "source": [
    "# Artimetic Operation using Inbuit Function"
   ]
  },
  {
   "cell_type": "code",
   "execution_count": 13,
   "id": "8133f8d5",
   "metadata": {},
   "outputs": [
    {
     "name": "stdout",
     "output_type": "stream",
     "text": [
      "[ 4  6 55 38 10]\n"
     ]
    }
   ],
   "source": [
    "var1=np.array([2,3,11,33,4])\n",
    "var2=np.array([2,3,44,5,6])\n",
    "varrAdd=np.add(var1,var2)\n",
    "print(varrAdd)"
   ]
  },
  {
   "cell_type": "code",
   "execution_count": 14,
   "id": "0bf84fcc",
   "metadata": {},
   "outputs": [
    {
     "name": "stdout",
     "output_type": "stream",
     "text": [
      "[  0   0 -33  28  -2]\n"
     ]
    }
   ],
   "source": [
    "var1=np.array([2,3,11,33,4])\n",
    "var2=np.array([2,3,44,5,6])\n",
    "varSubtract=np.subtract(var1,var2)\n",
    "print(varSubtract)"
   ]
  },
  {
   "cell_type": "code",
   "execution_count": 15,
   "id": "ccc41674",
   "metadata": {},
   "outputs": [
    {
     "name": "stdout",
     "output_type": "stream",
     "text": [
      "[1.         1.         0.25       6.6        0.66666667]\n"
     ]
    }
   ],
   "source": [
    "var1=np.array([2,3,11,33,4])\n",
    "var2=np.array([2,3,44,5,6])\n",
    "vardivide=np.divide(var1,var2)\n",
    "print(vardivide)"
   ]
  },
  {
   "cell_type": "code",
   "execution_count": 19,
   "id": "1ac49dff",
   "metadata": {},
   "outputs": [
    {
     "name": "stdout",
     "output_type": "stream",
     "text": [
      "[  4   9 484 165  24]\n"
     ]
    }
   ],
   "source": [
    "var1=np.array([2,3,11,33,4])\n",
    "var2=np.array([2,3,44,5,6])\n",
    "varMultiply=np.multiply(var1,var2)\n",
    "print(varMultiply)"
   ]
  },
  {
   "cell_type": "code",
   "execution_count": 20,
   "id": "582cc325",
   "metadata": {},
   "outputs": [
    {
     "name": "stdout",
     "output_type": "stream",
     "text": [
      "[ 0  0 11  3  4]\n"
     ]
    }
   ],
   "source": [
    "var1=np.array([2,3,11,33,4])\n",
    "var2=np.array([2,3,44,5,6])\n",
    "varMod=np.mod(var1,var2)\n",
    "print(varMod)"
   ]
  },
  {
   "cell_type": "code",
   "execution_count": 21,
   "id": "bd318c8f",
   "metadata": {},
   "outputs": [
    {
     "name": "stdout",
     "output_type": "stream",
     "text": [
      "[        4        27 285373457  39135393      4096]\n"
     ]
    }
   ],
   "source": [
    "var1=np.array([2,3,11,33,4])\n",
    "var2=np.array([2,3,44,5,6])\n",
    "varPower=np.power(var1,var2)\n",
    "print(varPower)"
   ]
  },
  {
   "cell_type": "code",
   "execution_count": 32,
   "id": "06b71b3a",
   "metadata": {},
   "outputs": [
    {
     "name": "stdout",
     "output_type": "stream",
     "text": [
      "[1 0 0 0 0]\n",
      "\n",
      "0\n"
     ]
    }
   ],
   "source": [
    "var1=np.array([1,3,11,33,4])\n",
    "var2=np.array([2,3,44,5,6])\n",
    "\n",
    "var3=np.reciprocal(var1)\n",
    "print(var3)\n",
    "print()\n",
    "a=3\n",
    "varRecip=np.reciprocal(a)\n",
    "print(varRecip)"
   ]
  },
  {
   "cell_type": "markdown",
   "id": "f327c018",
   "metadata": {},
   "source": [
    "# Arithmetic Operation on 2D Array"
   ]
  },
  {
   "cell_type": "code",
   "execution_count": 30,
   "id": "3b743b4d",
   "metadata": {},
   "outputs": [
    {
     "name": "stdout",
     "output_type": "stream",
     "text": [
      "[[  4   6  21  36  14]\n",
      " [526   6  13   9  54]]\n",
      "\n",
      "[[  4   6  21  36  14]\n",
      " [526   6  13   9  54]]\n"
     ]
    }
   ],
   "source": [
    "\n",
    "\n",
    "var1=np.array([[2,3,11,33,4],[526,3,3,4,44]])\n",
    "var2=np.array([[2,3,10,3,10],[0,3,10,5,10]])\n",
    "\n",
    "varrAdd2=var1+var2\n",
    "print(varrAdd2)\n",
    "print()\n",
    "varrAdd3=np.add(var1,var2)\n",
    "print(varrAdd2)"
   ]
  },
  {
   "cell_type": "code",
   "execution_count": 31,
   "id": "e7b40588",
   "metadata": {},
   "outputs": [
    {
     "name": "stdout",
     "output_type": "stream",
     "text": [
      "[[  4   9 110  99  40]\n",
      " [  0   9  30  20 440]]\n",
      "\n",
      "[[  4   9 110  99  40]\n",
      " [  0   9  30  20 440]]\n"
     ]
    }
   ],
   "source": [
    "var1=np.array([[2,3,11,33,4],[526,3,3,4,44]])\n",
    "var2=np.array([[2,3,10,3,10],[0,3,10,5,10]])\n",
    "\n",
    "varrAdd2=var1*var2\n",
    "print(varrAdd2)\n",
    "print()\n",
    "varrAdd3=np.multiply(var1,var2)\n",
    "print(varrAdd2)"
   ]
  },
  {
   "cell_type": "raw",
   "id": "d4e2419d",
   "metadata": {},
   "source": []
  }
 ],
 "metadata": {
  "kernelspec": {
   "display_name": "Python 3 (ipykernel)",
   "language": "python",
   "name": "python3"
  },
  "language_info": {
   "codemirror_mode": {
    "name": "ipython",
    "version": 3
   },
   "file_extension": ".py",
   "mimetype": "text/x-python",
   "name": "python",
   "nbconvert_exporter": "python",
   "pygments_lexer": "ipython3",
   "version": "3.11.5"
  }
 },
 "nbformat": 4,
 "nbformat_minor": 5
}
