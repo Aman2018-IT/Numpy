{
 "cells": [
  {
   "cell_type": "markdown",
   "id": "290e5bbf",
   "metadata": {},
   "source": [
    "# Data Type"
   ]
  },
  {
   "cell_type": "code",
   "execution_count": 1,
   "id": "77699d31",
   "metadata": {},
   "outputs": [
    {
     "name": "stdout",
     "output_type": "stream",
     "text": [
      "Data Type  int32\n"
     ]
    }
   ],
   "source": [
    "import numpy as np\n",
    "var =np.array([2,3,4,2])\n",
    "print(\"Data Type \",var.dtype)#dtype attribute"
   ]
  },
  {
   "cell_type": "code",
   "execution_count": 6,
   "id": "c049eb22",
   "metadata": {},
   "outputs": [
    {
     "name": "stdout",
     "output_type": "stream",
     "text": [
      "Data Type  float64\n"
     ]
    }
   ],
   "source": [
    "var1 =np.array([2.0,3.9,33.5,4.3,2.0])\n",
    "print(\"Data Type \",var1.dtype)#dtype attribute"
   ]
  },
  {
   "cell_type": "code",
   "execution_count": 8,
   "id": "d6b37de6",
   "metadata": {},
   "outputs": [
    {
     "name": "stdout",
     "output_type": "stream",
     "text": [
      "Data Type  <U1\n"
     ]
    }
   ],
   "source": [
    "var3 =np.array([\"A\",\"6\"])\n",
    "print(\"Data Type \",var3.dtype)#dtype =, u1 is string"
   ]
  },
  {
   "cell_type": "code",
   "execution_count": 9,
   "id": "f44543af",
   "metadata": {},
   "outputs": [
    {
     "name": "stdout",
     "output_type": "stream",
     "text": [
      "Data Type  <U11\n"
     ]
    }
   ],
   "source": [
    "var3 =np.array([\"A\",\"6\",5,5,3])\n",
    "print(\"Data Type \",var3.dtype)#dtype = u11 "
   ]
  },
  {
   "cell_type": "code",
   "execution_count": 13,
   "id": "d85e9ada",
   "metadata": {},
   "outputs": [
    {
     "name": "stdout",
     "output_type": "stream",
     "text": [
      "Data Type : int8\n"
     ]
    }
   ],
   "source": [
    "x=np.array([1,3,4,5],dtype=np.int8)#Explict converting int32 to int8\n",
    "print(\"Data Type :\" ,x.dtype)"
   ]
  },
  {
   "cell_type": "code",
   "execution_count": 14,
   "id": "9a858d2a",
   "metadata": {},
   "outputs": [
    {
     "name": "stdout",
     "output_type": "stream",
     "text": [
      "Data Type : float32\n",
      "[1. 3. 4. 5.]\n"
     ]
    }
   ],
   "source": [
    "x1=np.array([1,3,4,5],dtype=\"f\")#Explict converting int32 to to float32 using attribute\n",
    "print(\"Data Type :\" ,x1.dtype)\n",
    "print(x1)"
   ]
  },
  {
   "cell_type": "code",
   "execution_count": 21,
   "id": "34b0f4a9",
   "metadata": {},
   "outputs": [
    {
     "name": "stdout",
     "output_type": "stream",
     "text": [
      "Data Type : float32\n",
      "[1. 3. 4. 5.]\n",
      "Data Type : int32\n",
      "[1 3 4 5]\n"
     ]
    }
   ],
   "source": [
    "x2=np.array([1,3,4,5])\n",
    "new =np.float32(x2)#Explict converting using function\n",
    "print(\"Data Type :\" ,new.dtype)\n",
    "print(new)\n",
    "print(\"Data Type :\" ,x2.dtype)\n",
    "print(x2)\n"
   ]
  },
  {
   "cell_type": "code",
   "execution_count": 19,
   "id": "1f669536",
   "metadata": {},
   "outputs": [
    {
     "name": "stdout",
     "output_type": "stream",
     "text": [
      "Data Type : float32\n",
      "[1. 3. 4. 5.]\n",
      "Data Type : int32\n",
      "[1 3 4 5]\n"
     ]
    }
   ],
   "source": [
    "x2=np.array([1,3,4,5])\n",
    "new =np.float32(x2)\n",
    "new_one=np.int_(new)#again Explict converting back using using function\n",
    "print(\"Data Type :\" ,new.dtype)\n",
    "print(new)\n",
    "print(\"Data Type :\" ,new_one.dtype)\n",
    "print(new_one)"
   ]
  },
  {
   "cell_type": "code",
   "execution_count": 22,
   "id": "908dc634",
   "metadata": {},
   "outputs": [
    {
     "name": "stdout",
     "output_type": "stream",
     "text": [
      "[1 3 4 5]\n",
      "[1. 3. 4. 5.]\n"
     ]
    }
   ],
   "source": [
    "x3=np.array([1,3,4,5])\n",
    "new_1=x3.astype(float)#agar ham nhi chate ki fir se ham convert kare uske original type me toh ham astype function use kar sakte hai.\n",
    "print(x3)\n",
    "print(new_1)"
   ]
  },
  {
   "cell_type": "code",
   "execution_count": null,
   "id": "a9e57a1e",
   "metadata": {},
   "outputs": [],
   "source": []
  }
 ],
 "metadata": {
  "kernelspec": {
   "display_name": "Python 3 (ipykernel)",
   "language": "python",
   "name": "python3"
  },
  "language_info": {
   "codemirror_mode": {
    "name": "ipython",
    "version": 3
   },
   "file_extension": ".py",
   "mimetype": "text/x-python",
   "name": "python",
   "nbconvert_exporter": "python",
   "pygments_lexer": "ipython3",
   "version": "3.11.5"
  }
 },
 "nbformat": 4,
 "nbformat_minor": 5
}
