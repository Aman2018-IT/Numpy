{
 "cells": [
  {
   "cell_type": "markdown",
   "id": "2796cf78",
   "metadata": {},
   "source": [
    "# Math Function\n"
   ]
  },
  {
   "cell_type": "markdown",
   "id": "c6d6f586",
   "metadata": {},
   "source": [
    "np.min(x)\n",
    "np.max(x)\n",
    "np.argmin(x)\n",
    "np.sqrt(x)\n",
    "np.sin(x)\n",
    "np.cos(x)\n",
    "np.cumsum(x)"
   ]
  },
  {
   "cell_type": "code",
   "execution_count": 8,
   "id": "d915d640",
   "metadata": {},
   "outputs": [
    {
     "name": "stdout",
     "output_type": "stream",
     "text": [
      "Minium Number : 2  and the index is  3\n",
      "Maximun Number : 56 9\n",
      "Square Root : [3.31662479 1.73205081 2.23606798 1.41421356 2.         2.23606798\n",
      " 5.74456265 6.70820393 6.55743852 7.48331477]\n"
     ]
    }
   ],
   "source": [
    "import numpy as np\n",
    "x1=np.array([11,3,5,2,4,5,33,45,43,56])\n",
    "print(\"Minium Number :\",np.min(x1),\" and the index is \",np.argmin(x1))\n",
    "print(\"Maximun Number :\",np.max(x1),np.argmax(x1))\n",
    "print(\"Square Root :\",np.sqrt(x1))"
   ]
  },
  {
   "cell_type": "code",
   "execution_count": 12,
   "id": "caa83601",
   "metadata": {},
   "outputs": [
    {
     "name": "stdout",
     "output_type": "stream",
     "text": [
      "[2 1]\n",
      "[2 2 4 1]\n"
     ]
    }
   ],
   "source": [
    "x2=np.array([[2,34,4,6],[8,2,9,1]])\n",
    "print(np.min(x2,axis=1))#axis 1 represent row and axis 0 represent column\n",
    "print(np.min(x2,axis=0))"
   ]
  },
  {
   "cell_type": "code",
   "execution_count": 14,
   "id": "03c7d3e6",
   "metadata": {},
   "outputs": [
    {
     "name": "stdout",
     "output_type": "stream",
     "text": [
      "[34  9]\n",
      "[ 8 34  9  6]\n"
     ]
    }
   ],
   "source": [
    "x3=np.array([[2,34,4,6],[8,2,9,1]])\n",
    "print(np.max(x3,axis=1))\n",
    "print(np.max(x3,axis=0))"
   ]
  },
  {
   "cell_type": "code",
   "execution_count": 16,
   "id": "ef1bca5c",
   "metadata": {},
   "outputs": [
    {
     "name": "stdout",
     "output_type": "stream",
     "text": [
      "[[0.84147098 0.90929743 0.14112001]]\n",
      "[[ 0.54030231 -0.41614684 -0.9899925 ]]\n"
     ]
    }
   ],
   "source": [
    "x4=np.array([[1,2,3]])\n",
    "print(np.sin(x4))\n",
    "print(np.cos(x4))"
   ]
  },
  {
   "cell_type": "code",
   "execution_count": 18,
   "id": "9fc8bf8e",
   "metadata": {},
   "outputs": [
    {
     "name": "stdout",
     "output_type": "stream",
     "text": [
      "[1 3 6]\n"
     ]
    }
   ],
   "source": [
    "print(np.cumsum(x4))#1,1+2,3+3=[1,3,3]"
   ]
  },
  {
   "cell_type": "code",
   "execution_count": null,
   "id": "84a2f46e",
   "metadata": {},
   "outputs": [],
   "source": []
  }
 ],
 "metadata": {
  "kernelspec": {
   "display_name": "Python 3 (ipykernel)",
   "language": "python",
   "name": "python3"
  },
  "language_info": {
   "codemirror_mode": {
    "name": "ipython",
    "version": 3
   },
   "file_extension": ".py",
   "mimetype": "text/x-python",
   "name": "python",
   "nbconvert_exporter": "python",
   "pygments_lexer": "ipython3",
   "version": "3.11.5"
  }
 },
 "nbformat": 4,
 "nbformat_minor": 5
}
